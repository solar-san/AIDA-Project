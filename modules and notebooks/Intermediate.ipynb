{
 "cells": [
  {
   "cell_type": "markdown",
   "metadata": {},
   "source": [
    "# The Intermediate \n",
    "\n",
    "The following notebook contains the code for the Intermediate strategy, aiming to obtain a medium level AI player, able to evaluate some interesting caracteristics of the state of the game and select the returning move at each turn.\n",
    "\n",
    "For more details about this strategy, we recommend to check the slides.\n",
    "\n",
    "## Import setup"
   ]
  },
  {
   "cell_type": "code",
   "execution_count": 2,
   "metadata": {},
   "outputs": [],
   "source": [
    "import itertools"
   ]
  },
  {
   "cell_type": "markdown",
   "metadata": {},
   "source": [
    "# Defining variables\n",
    "The dictionary *values* represent the value associated to each card. The first element of the tuple stands for the rank of the card (from 1 to 10), while the second for its suit (1=coins, 2=cups, 3=swords, 4=clubs). \n",
    "To define the meaning of a card to be important, we followed some guidelines: we assigned more points to the cards which counts the most when counting the 'Primiera', then we gave bonus points to coins cards, because they are important for the 'Coins' counting, and finally we assigned a special value to number 7 and 10 of coins, because both 'Sette bello' and 'Re bello' make you gain a point."
   ]
  },
  {
   "cell_type": "code",
   "execution_count": 3,
   "metadata": {},
   "outputs": [],
   "source": [
    "values = {(1, 1): 26, (2, 1): 22, (3, 1): 23, (4, 1): 24, (5, 1): 25, (6, 1): 28, (7, 1): 139, (8, 1): 20, (9, 1): 20, (10, 1): 139,\n",
    "          (1, 2): 16, (2, 2): 12, (3, 2): 13, (4, 2): 14, (5, 2): 15, (6, 2): 18, (7, 2): 29, (8, 2): 10, (9, 2): 10, (10, 2): 10,\n",
    "          (1, 3): 16, (2, 3): 12, (3, 3): 13, (4, 3): 14, (5, 3): 15, (6, 3): 18, (7, 3): 29, (8, 3): 10, (9, 3): 10, (10, 3): 10,\n",
    "          (1, 4): 16, (2, 4): 12, (3, 4): 13, (4, 4): 14, (5, 4): 15, (6, 4): 18, (7, 4): 29, (8, 4): 10, (9, 4): 10, (10, 4): 10}\n"
   ]
  },
  {
   "cell_type": "markdown",
   "metadata": {},
   "source": [
    "# First def: CheckForScopa\n",
    "\n",
    "Confront every card in the hand with the sum of the cards in the table: if they have the same value, save that card in a list.\n",
    "\n",
    "\n",
    "Check the list to see if you can do a Scopa with more than one card. If so, play the card with the highest value."
   ]
  },
  {
   "cell_type": "code",
   "execution_count": 4,
   "metadata": {},
   "outputs": [],
   "source": [
    "def CheckForScopa(legalMoves, table, Standalone, values = values): # check if it's possible to do a scopa\n",
    "    best_broom = None\n",
    "    max_value = float('-inf')\n",
    "    brooms = []\n",
    "    for card in legalMoves:\n",
    "        if card[0] == sum(rank_table[0] for rank_table in table):\n",
    "            brooms.append(card)\n",
    "        else:\n",
    "            pass\n",
    "    \n",
    "    if len(brooms) == 0:\n",
    "        return False\n",
    "    else:\n",
    "        for broom in brooms:\n",
    "            if broom in values:\n",
    "                value = values[broom]\n",
    "                if value > max_value:\n",
    "                    max_value = value\n",
    "                    best_broom = broom\n",
    "        if Standalone:\n",
    "            return best_broom\n",
    "        else:\n",
    "            return {\n",
    "                best_broom: table\n",
    "            }"
   ]
  },
  {
   "cell_type": "markdown",
   "metadata": {},
   "source": [
    "# Second def: AvoidScopa\n",
    "\n",
    "For each card in the hand, it checks what would remain on the table if that card would be played:\n",
    "It first checks all the 'single picking' cards, then the combinations of cards that it may take playing a single card: if the sum of the remaining cards is equal to a card that the next player might have (represented by the 'deck' variable), it doesn't play that card.\n",
    "If none of the cards could pick anything from the table, or if taking anything would give the opponent a chance to make a Scopa, the code checks the best card to add to the table avoiding the following player to make a Scopa.\n",
    "In case the next player could potentially make Scopa with any play, the code returns the card with the lowest value to decrease the loss of points."
   ]
  },
  {
   "cell_type": "code",
   "execution_count": 5,
   "metadata": {},
   "outputs": [],
   "source": [
    "def AvoidScopa(legalMoves, table, deck):\n",
    "    list_table = [rank[0] for rank in table]\n",
    "    list_deck = [rank[0] for rank in deck]\n",
    "    possible_picks = {}\n",
    "    possible_plays = []\n",
    "    no_plays = []\n",
    "    for card in legalMoves:\n",
    "        if card[0] in list_table:\n",
    "            copy = list_table[:]\n",
    "            sum_table = sum(rank_table for rank_table in copy) - card[0]\n",
    "            if sum_table in list_deck:\n",
    "                pass\n",
    "            else:\n",
    "                possible_plays.append(card)\n",
    "                for pick in table:\n",
    "                    if pick[0] == card[0]:\n",
    "                        possible_picks[card] = pick\n",
    "                        break  \n",
    "        else:\n",
    "            copy = list_table[:]\n",
    "            copy.append(card[0])\n",
    "            sum_table = sum(rank_table for rank_table in copy)\n",
    "            if sum_table in list_deck:\n",
    "                pass\n",
    "            else:\n",
    "                possible_plays.append(card)\n",
    "            subsets = []\n",
    "            for r in range(2, len(list_table) + 1):\n",
    "                for subset in itertools.combinations(list_table, r):\n",
    "                    if sum(subset) == card[0]:\n",
    "                        copy = list_table[:]\n",
    "                        sum_table = sum(rank_table for rank_table in copy) - card[0]\n",
    "                        if sum_table in list_deck:\n",
    "                            no_plays.append(card)\n",
    "                        else:\n",
    "                            possible_plays.append(card)\n",
    "                            subsets.append(subset)\n",
    "                            sums = []\n",
    "                            for value_sum in subsets:\n",
    "                                sub = []\n",
    "                                for single_card in value_sum:\n",
    "                                    for pick in table:\n",
    "                                        if single_card == pick[0]:\n",
    "                                            single_card = pick\n",
    "                                            sub.append(single_card)\n",
    "                                sums.append(sub)\n",
    "                            possible_picks[card] = sums\n",
    "                    else:\n",
    "                        copy = list_table[:]\n",
    "                        copy.append(card[0])\n",
    "                        sum_table = sum(rank_table for rank_table in copy)\n",
    "                        if sum_table in list_deck:\n",
    "                            pass\n",
    "                        else:\n",
    "                            possible_plays.append(card)\n",
    "    possible_plays = list(set(possible_plays))\n",
    "    for i in no_plays:\n",
    "        if i in possible_plays:\n",
    "            possible_plays.remove(i)\n",
    "    return possible_picks, possible_plays"
   ]
  },
  {
   "cell_type": "markdown",
   "metadata": {},
   "source": [
    "# Third def: BestMove\n",
    "\n",
    "In case there are plays that the player can make without giving the opponent the possibility to make a Scopa, the 'AvoidScopa' function stores all these possible plays in a dictionary, made by the cards being played as keys and the picks as values (a list in case the pick is made by multiple cards, a list of lists if there are multiple combinations of picks).\n",
    "Iterating for every key and value of the dictionary, the 'BestMove' function sums the value of the card that would be played and the value of the card/s that would be taken, returning the card to play that maximizes the final result."
   ]
  },
  {
   "cell_type": "code",
   "execution_count": 6,
   "metadata": {},
   "outputs": [],
   "source": [
    "def BestMove(possible_picks, possible_plays, legalMoves, Standalone, values = values):\n",
    "    \n",
    "    new_p2 = {}\n",
    "    risultato = []\n",
    "    punteggi_di_ciascuna_value = []\n",
    "\n",
    "    # in the next 'if' loop we see if possible_picks is empty: if it isn't then we see among all \n",
    "    # the possible tuples which one is the one that allows us to get more points and we create a \n",
    "    # new dictionary p2 in which we save only (combined with each key) the combination that allows \n",
    "    # us to score more points.\n",
    "\n",
    "    if len(possible_picks) != 0:\n",
    "        key_list = list(possible_picks.keys())\n",
    "        val_list = list(possible_picks.values())\n",
    "        \n",
    "        for i in range(len(possible_picks)):\n",
    "            key = (key_list[i])\n",
    "            val = (val_list[i])\n",
    "\n",
    "            \n",
    "            if isinstance(val,tuple):\n",
    "                new_p2[key] = val\n",
    "\n",
    "            else:\n",
    "                # A brief example to show what happen in each cicle:\n",
    "                #[[(3, 1), (5, 3)], [(1, 1), (3, 1), (4, 1)]]\n",
    "                values_of_each_el = []\n",
    "                for el in val:\n",
    "                    # [(3, 1), (5, 3)]\n",
    "                    somma = 0\n",
    "                    for tup in el:\n",
    "                        # (3, 1)\n",
    "                        somma = somma + values[tup]\n",
    "                        # 'somma' represents all points gained by taking that set of cards\n",
    "                    values_of_each_el.append(somma) #values_of_each_el in this case it contains: [38, 73]\n",
    "\n",
    "                massimo = max(values_of_each_el) \n",
    "                punteggi_di_ciascuna_value.append(massimo)\n",
    "                index = values_of_each_el.index(massimo)\n",
    "                new_p2[key] = val[index]\n",
    "        \n",
    "        key_list = list(new_p2.keys())\n",
    "        val_list = list(new_p2.values())\n",
    "        punteggi = []\n",
    "\n",
    "        # here I calculate for each card how many points it takes\n",
    "        for i in range(len(possible_picks)):\n",
    "            key = (key_list[i])\n",
    "            val = (val_list[i])\n",
    "        \n",
    "            punti_della_key = int(values[key])\n",
    "            somma = 0\n",
    "            if isinstance(val,tuple):\n",
    "                punti_della_value = values[val]\n",
    "            else:\n",
    "                for el in val:\n",
    "                    somma = somma + values[el]\n",
    "                punti_della_value = somma\n",
    "        \n",
    "        \n",
    "            punti_presi = punti_della_key + punti_della_value\n",
    "    \n",
    "            punteggi.append(punti_presi)\n",
    "        \n",
    "        massimo = max(punteggi)\n",
    "        index = punteggi.index(massimo)\n",
    "        # creation of the output\n",
    "        risultato = (key_list[index])\n",
    "        key=key_list[index]\n",
    "        val=val_list[index]\n",
    "\n",
    "        if Standalone:\n",
    "            return risultato\n",
    "        else:\n",
    "            return {\n",
    "                key: val\n",
    "            }\n",
    "\n",
    "                \n",
    "    \n",
    "    else:\n",
    "        # if possible_plays is not empty, we play the best card in possible_plays\n",
    "        # otherwise we look among all the cards in hand and choose the best one\n",
    "        if len(possible_plays) != 0:\n",
    "            min_score = float('inf')\n",
    "            for choice in possible_plays:\n",
    "                value = values[choice]  \n",
    "                if value < min_score: \n",
    "                    min_score = value  \n",
    "                    risultato = choice  \n",
    "\n",
    "            \n",
    "        else:\n",
    "            min_score = float('inf')\n",
    "            for choice in legalMoves:\n",
    "                value = values[choice]  \n",
    "                if value < min_score:  \n",
    "                    min_score = value  \n",
    "                    risultato = choice \n",
    "\n",
    "\n",
    "    if Standalone:\n",
    "            return risultato\n",
    "    else:\n",
    "            return {\n",
    "                risultato: ()\n",
    "            }\n"
   ]
  },
  {
   "cell_type": "markdown",
   "metadata": {},
   "source": [
    "# Finally: The Intermediate\n",
    "\n",
    "The Greedy and the Intermediate Algorithms are Rule Based, meaning that they give an answer based on some specific cases. They take as input the cards the player has in their hand and the cards on the table. The hand and the table are made of two lists of tuples, representing the cards, each consisting of two numbers: (rank, suit).\n",
    "The value of the card is defined thanks to a dictionary of values, which helps the Rule Based Algorithm to decide what to do.\n",
    "As output of this algorithms, we can have: or just the tuple representing the card that the player is going to play, or a dictionary containing the card to play and the card/s to pick from the table.\n",
    "Let's dive into the algorithm."
   ]
  },
  {
   "cell_type": "code",
   "execution_count": 7,
   "metadata": {},
   "outputs": [],
   "source": [
    "def Intermediate(legalMoves, table, deck, Standalone, values = values):\n",
    "    if CheckForScopa(legalMoves, table, Standalone, values):\n",
    "        return CheckForScopa(legalMoves, table, Standalone, values)\n",
    "    else:\n",
    "        return BestMove(AvoidScopa(legalMoves, table, deck)[0], AvoidScopa(legalMoves, table, deck)[1], legalMoves, Standalone, values)\n",
    "\n"
   ]
  },
  {
   "cell_type": "markdown",
   "metadata": {},
   "source": [
    "# Some tests and examples"
   ]
  },
  {
   "cell_type": "code",
   "execution_count": 8,
   "metadata": {},
   "outputs": [
    {
     "name": "stdout",
     "output_type": "stream",
     "text": [
      "{(7, 1): (7, 1)}\n"
     ]
    }
   ],
   "source": [
    "#############################################################\n",
    "\n",
    "### EXAMPLE 1 ###\n",
    "\n",
    "a = [(1, 2), (7, 1), (8, 2)] # cards in hand: `legalMoves`\n",
    "\n",
    "b = [(1, 1), (3, 1), (4, 1), (7, 2), (5, 3)] # cards on the table: `table`\n",
    "\n",
    "c = [] # cards not seen yet: `deck`\n",
    "\n",
    "\n",
    "print(Intermediate(a, b, c, Standalone=False))\n",
    "\n",
    "###############################################################"
   ]
  },
  {
   "cell_type": "code",
   "execution_count": 10,
   "metadata": {},
   "outputs": [
    {
     "name": "stdout",
     "output_type": "stream",
     "text": [
      "{(1, 2): ()}\n"
     ]
    }
   ],
   "source": [
    "#############################################################\n",
    "\n",
    "### EXAMPLE 2: DIFFERENCE FROM THE GREEDY ###\n",
    "\n",
    "a = [(1, 2),(7, 3),(9, 1)] # cards in hand: `legalMoves`\n",
    "\n",
    "b = [(4, 1), (6, 1), (5, 3)] # cards on the table: `table`\n",
    "\n",
    "c = [(6, 4), (3, 1), (4, 3)] # cards not seen yet: `deck`\n",
    "\n",
    "\n",
    "print(Intermediate(a, b, c, Standalone=False))\n",
    "\n",
    "###############################################################"
   ]
  }
 ],
 "metadata": {
  "kernelspec": {
   "display_name": "Python 3",
   "language": "python",
   "name": "python3"
  },
  "language_info": {
   "codemirror_mode": {
    "name": "ipython",
    "version": 3
   },
   "file_extension": ".py",
   "mimetype": "text/x-python",
   "name": "python",
   "nbconvert_exporter": "python",
   "pygments_lexer": "ipython3",
   "version": "3.11.2"
  },
  "orig_nbformat": 4
 },
 "nbformat": 4,
 "nbformat_minor": 2
}
